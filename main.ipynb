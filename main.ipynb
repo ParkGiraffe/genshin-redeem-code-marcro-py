{
 "cells": [
  {
   "cell_type": "code",
   "execution_count": 136,
   "metadata": {},
   "outputs": [
    {
     "data": {
      "text/plain": [
       "0          (indefinite)\n",
       "1          (indefinite)\n",
       "2          (indefinite)\n",
       "3     September 17 2022\n",
       "4     September 17 2022\n",
       "            ...        \n",
       "90      October 13 2020\n",
       "91      October 13 2020\n",
       "92       October 7 2020\n",
       "93       October 7 2020\n",
       "94       October 7 2020\n",
       "Name: Valid, Length: 95, dtype: object"
      ]
     },
     "execution_count": 136,
     "metadata": {},
     "output_type": "execute_result"
    }
   ],
   "source": [
    "from cgitb import reset\n",
    "import pandas as pd\n",
    "\n",
    "def get_duration(x):\n",
    "  data = x.split()[4:7]\n",
    "  str = ' '.join(data).replace(',', '')\n",
    "  if 'Notes' in str :\n",
    "    remove_idx = str.find('Notes:')\n",
    "    result = str[:remove_idx]\n",
    "  else:\n",
    "    result = str\n",
    "  return result\n",
    "\n",
    "url = 'https://genshin-impact.fandom.com/wiki/Promotional_Code'\n",
    "parsing_data = pd.read_html(url) # 리스트\n",
    "df = pd.DataFrame(parsing_data[0]) # 판다스 데이터프레임\n",
    "df['Valid']=df.Duration.map(get_duration)\n",
    "\n",
    "\n",
    "\n",
    "df['Valid'] \n"
   ]
  }
 ],
 "metadata": {
  "kernelspec": {
   "display_name": "Python 3.8.8 ('base')",
   "language": "python",
   "name": "python3"
  },
  "language_info": {
   "codemirror_mode": {
    "name": "ipython",
    "version": 3
   },
   "file_extension": ".py",
   "mimetype": "text/x-python",
   "name": "python",
   "nbconvert_exporter": "python",
   "pygments_lexer": "ipython3",
   "version": "3.8.8"
  },
  "orig_nbformat": 4,
  "vscode": {
   "interpreter": {
    "hash": "3cc66e52f4ca7e738b81484b4bc972ce452ea97bbe5d7d2763d777bd2f2588f1"
   }
  }
 },
 "nbformat": 4,
 "nbformat_minor": 2
}
