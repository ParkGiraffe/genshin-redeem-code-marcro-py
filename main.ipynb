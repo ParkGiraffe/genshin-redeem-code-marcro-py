{
 "cells": [
  {
   "cell_type": "code",
   "execution_count": 36,
   "metadata": {},
   "outputs": [
    {
     "name": "stdout",
     "output_type": "stream",
     "text": [
      "[[None, None, None, None], [None, None, None, None], [None, None, None, None], [None, None, None, None], [None, None, None, None], [None, None, None, None], [None, None, None, None], [None, None, None, None], [None, None, None, None], [None, None, None, None], [None, None, None, None], [None, None, None, None], [None, None, None, None], [None, None, None, None], [None, None, None, None], [None, None, None, None], [None, None, None, None], [None, None, None, None], [None, None, None, None], [None, None, None, None], [None, None, None, None], [None, None, None, None], [None, None, None, None], [None, None, None, None], [None, None, None, None], [None, None, None, None], [None, None, None, None], [None, None, None, None], [None, None, None, None], [None, None, None, None], [None, None, None, None], [None, None, None, None], [None, None, None, None], [None, None, None, None], [None, None, None, None], [None, None, None, None], [None, None, None, None], [None, None, None, None], [None, None, None, None], [None, None, None, None], [None, None, None, None], [None, None, None, None], [None, None, None, None], [None, None, None, None], [None, None, None, None], [None, None, None, None], [None, None, None, None], [None, None, None, None], [None, None, None, None], [None, None, None, None], [None, None, None, None], [None, None, None, None], [None, None, None, None], [None, None, None, None], [None, None, None, None], [None, None, None, None], [None, None, None, None], [None, None, None, None], [None, None, None, None], [None, None, None, None], [None, None, None, None], [None, None, None, None], [None, None, None, None], [None, None, None, None], [None, None, None, None], [None, None, None, None], [None, None, None, None], [None, None, None, None], [None, None, None, None], [None, None, None, None], [None, None, None, None], [None, None, None, None], [None, None, None, None], [None, None, None, None], [None, None, None, None], [None, None, None, None], [None, None, None, None], [None, None, None, None], [None, None, None, None], [None, None, None, None], [None, None, None, None], [None, None, None, None], [None, None, None, None], [None, None, None, None], [None, None, None, None], [None, None, None, None], [None, None, None, None], [None, None, None, None], [None, None, None, None], [None, None, None, None], [None, None, None, None], [None, None, None, None], [None, None, None, None], [None, None, None, None], [None, None, None, None], [None, None, None, None]]\n"
     ]
    }
   ],
   "source": [
    "from urllib import request\n",
    "import requests\n",
    "from bs4 import BeautifulSoup\n",
    "from html_table_parser.parser import HTMLTableParser\n",
    "import pandas as pd\n",
    "\n",
    "url = 'https://genshin-impact.fandom.com/wiki/Promotional_Code'\n",
    "\n",
    "request = requests.get(url)\n",
    "soup = BeautifulSoup(request.text, 'html.parser')\n",
    "data = soup.find('table', {'class': 'wikitable'})\n",
    "table = make2d(data)\n",
    "\n",
    "# df = pd.DataFrame(table[1:], columns=table[0])"
   ]
  },
  {
   "cell_type": "code",
   "execution_count": 35,
   "metadata": {},
   "outputs": [],
   "source": [
    "\n",
    "def make2d(table, text_only=True):\n",
    "\n",
    "    twod = []\n",
    "\n",
    "    for rdx, row in enumerate(find_rows(table)):\n",
    "        twod.append([])\n",
    "        for cell in find_cells(row):\n",
    "            twod[rdx].append(cell)\n",
    "\n",
    "    twod = insert_colspans(twod)\n",
    "    twod = insert_rowspans(twod)\n",
    "\n",
    "    if text_only:\n",
    "        twod = textonly(twod)\n",
    "    print(twod)\n",
    "    return twod\n",
    "\n",
    "\n",
    "def textonly(twod):\n",
    "\n",
    "    text2d = []\n",
    "\n",
    "    for rdx, row in enumerate(twod):\n",
    "        text2d.append([])\n",
    "        for cell in row:\n",
    "            text2d[rdx].append(cell.text.strip())\n",
    "\n",
    "    return text2d\n",
    "\n",
    "\n",
    "def insert_rowspans(twod):\n",
    "\n",
    "    for rdx, row in enumerate(twod):\n",
    "        for cdx, cell in enumerate(row):\n",
    "            cell_rowspan = cell.get('rowspan')\n",
    "            if cell_rowspan and cell_rowspan.isdigit() and not cell.get('row_done'):\n",
    "                cell['row_done'] = True\n",
    "                for x in range(1, int(cell_rowspan)):\n",
    "                    if rdx + x < len(twod):\n",
    "                        twod[rdx + x].insert(cdx, cell)\n",
    "\n",
    "    # flip done attributes back because state is saved on following iterations\n",
    "    for rdx, row in enumerate(twod):\n",
    "        for cdx, cell in enumerate(row):\n",
    "            if cell.get('row_done'):\n",
    "                cell['row_done'] = False\n",
    "\n",
    "    return twod\n",
    "\n",
    "\n",
    "def insert_colspans(twod):\n",
    "\n",
    "    for rdx, row in enumerate(twod):\n",
    "        for cdx, cell in enumerate(row):\n",
    "            cell_colspan = cell.get('colspan')\n",
    "            if cell_colspan and cell_colspan.isdigit() and not cell.get('col_done'):\n",
    "                cell['col_done'] = True\n",
    "                for x in range(1, int(cell_colspan)):\n",
    "                    if rdx == 0:\n",
    "                        twod[rdx].insert(cdx, cell)\n",
    "                    else:\n",
    "                        if len(twod[rdx]) < len(twod[rdx - 1]):\n",
    "                            twod[rdx].insert(cdx, cell)\n",
    "\n",
    "    # flip done attributes back because state is saved on following iterations\n",
    "    for rdx, row in enumerate(twod):\n",
    "        for cdx, cell in enumerate(row):\n",
    "            if cell.get('col_done'):\n",
    "                cell['col_done'] = False\n",
    "\n",
    "    return twod"
   ]
  },
  {
   "cell_type": "code",
   "execution_count": 10,
   "metadata": {},
   "outputs": [],
   "source": [
    "def find_rows(table):\n",
    "\n",
    "    return table.find_all('tr')\n",
    "\n",
    "def find_cells(row):\n",
    "\n",
    "    cells = []\n",
    "\n",
    "    ths = row.find_all('th', recursive=False)\n",
    "    if ths:\n",
    "        cells.extend(ths)\n",
    "    tds = row.find_all('td', recursive=False)\n",
    "    if tds:\n",
    "        cells.extend(tds)\n",
    "\n",
    "    return cells"
   ]
  }
 ],
 "metadata": {
  "kernelspec": {
   "display_name": "Python 3.8.8 ('base')",
   "language": "python",
   "name": "python3"
  },
  "language_info": {
   "codemirror_mode": {
    "name": "ipython",
    "version": 3
   },
   "file_extension": ".py",
   "mimetype": "text/x-python",
   "name": "python",
   "nbconvert_exporter": "python",
   "pygments_lexer": "ipython3",
   "version": "3.8.8"
  },
  "orig_nbformat": 4,
  "vscode": {
   "interpreter": {
    "hash": "3cc66e52f4ca7e738b81484b4bc972ce452ea97bbe5d7d2763d777bd2f2588f1"
   }
  }
 },
 "nbformat": 4,
 "nbformat_minor": 2
}
