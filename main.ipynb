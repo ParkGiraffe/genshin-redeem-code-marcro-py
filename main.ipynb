{
 "cells": [
  {
   "cell_type": "code",
   "execution_count": 169,
   "metadata": {},
   "outputs": [
    {
     "data": {
      "text/plain": [
       "['MA6RPW8GGJAM', '6A6VJTWGCPYV', 'GENSHINGIFT']"
      ]
     },
     "execution_count": 169,
     "metadata": {},
     "output_type": "execute_result"
    }
   ],
   "source": [
    "from datetime import datetime\n",
    "import pandas as pd\n",
    "\n",
    "def get_duration(x):\n",
    "  data = x.split()[4:7]\n",
    "  if (len(data) > 1 and len(data[1]) < 3):\n",
    "    data[1] = ('0' + data[1])\n",
    "  str = '-'.join(data).replace(',', '')\n",
    "  if 'Notes' in str :\n",
    "    remove_idx = str.find('Notes:')\n",
    "    result = str[:remove_idx]\n",
    "  else:\n",
    "    result = str\n",
    "  return result\n",
    "\n",
    "def get_validation(x):\n",
    "  str_duration = get_duration(x)\n",
    "  if 'indefinite' in str_duration :\n",
    "    return True\n",
    "  elif str_duration == '' : \n",
    "    return False\n",
    "  else :\n",
    "    obj_duration = datetime.strptime(str_duration, '%B-%d-%Y')\n",
    "    obj_now = datetime.now()\n",
    "    result = obj_duration > obj_now\n",
    "    return result\n",
    "\n",
    "def get_valid_codes(df):\n",
    "  return df[df['Valid'] == True]\n",
    "\n",
    "def get_valid_codes(url):\n",
    "  parsing_data = pd.read_html(url) # 리스트\n",
    "  original_df = pd.DataFrame(parsing_data[0]) # 판다스 데이터프레임\n",
    "  original_df['Valid']=original_df.Duration.map(get_validation)\n",
    "\n",
    "  valid_df = get_valid_rows(original_df)\n",
    "  return list(valid_df['Code'])\n",
    "\n",
    "valid_codes = get_valid_codes('https://genshin-impact.fandom.com/wiki/Promotional_Code')\n",
    "valid_codes"
   ]
  }
 ],
 "metadata": {
  "kernelspec": {
   "display_name": "Python 3.8.8 ('base')",
   "language": "python",
   "name": "python3"
  },
  "language_info": {
   "codemirror_mode": {
    "name": "ipython",
    "version": 3
   },
   "file_extension": ".py",
   "mimetype": "text/x-python",
   "name": "python",
   "nbconvert_exporter": "python",
   "pygments_lexer": "ipython3",
   "version": "3.8.8"
  },
  "orig_nbformat": 4,
  "vscode": {
   "interpreter": {
    "hash": "3cc66e52f4ca7e738b81484b4bc972ce452ea97bbe5d7d2763d777bd2f2588f1"
   }
  }
 },
 "nbformat": 4,
 "nbformat_minor": 2
}
